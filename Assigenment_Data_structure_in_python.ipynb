{
 "cells": [
  {
   "cell_type": "markdown",
   "id": "9aeebb3f-6d86-4b18-bf4f-7a15361e1799",
   "metadata": {
    "tags": []
   },
   "source": [
    "## Question 1.Write a code to reverse a string.?\n"
   ]
  },
  {
   "cell_type": "code",
   "execution_count": 1,
   "id": "66309184-f047-4f92-aab1-75f6b56fccfa",
   "metadata": {
    "tags": []
   },
   "outputs": [
    {
     "data": {
      "text/plain": [
       "'malayalam sehcaet arorA madaM'"
      ]
     },
     "execution_count": 1,
     "metadata": {},
     "output_type": "execute_result"
    }
   ],
   "source": [
    "sample_str = \"Madam Arora teaches malayalam\"\n",
    "sample_str[:: -1]\n"
   ]
  },
  {
   "cell_type": "markdown",
   "id": "c5f2754d-3f94-4fad-99b1-4743ecd812e2",
   "metadata": {
    "tags": []
   },
   "source": [
    "## Question 2.Write a code to count the number of vowels in a string.?"
   ]
  },
  {
   "cell_type": "code",
   "execution_count": 12,
   "id": "e46b4bbb-2100-4df7-9127-b0e08db5bc49",
   "metadata": {},
   "outputs": [
    {
     "name": "stdout",
     "output_type": "stream",
     "text": [
      "12\n"
     ]
    }
   ],
   "source": [
    "s = \"Madam Arora teaches malayalam\"\n",
    "def counting_vowels(ch):\n",
    "    return ch.upper() in ['A','E','I','O','U']\n",
    "\n",
    "def isVowel(s):\n",
    "    count = 0\n",
    "    for i in range(len(s)):\n",
    "        if counting_vowels(s[i]):\n",
    "            count += 1\n",
    "    return count \n",
    "print(isVowel(s))\n",
    "    "
   ]
  },
  {
   "cell_type": "markdown",
   "id": "50b63529-9df3-4347-8f04-ced7072172fd",
   "metadata": {},
   "source": [
    " ## Question3. Write a code to check if a given string is a palindrome or not.?"
   ]
  },
  {
   "cell_type": "code",
   "execution_count": 13,
   "id": "85eca1be-06ff-4210-8c1a-c7cca56d6ce1",
   "metadata": {
    "tags": []
   },
   "outputs": [
    {
     "name": "stdout",
     "output_type": "stream",
     "text": [
      "string is a palindrome\n"
     ]
    }
   ],
   "source": [
    "s = \"malayalam\"\n",
    "if s == s[::-1]:\n",
    "    print(\"string is a palindrome\")\n",
    "else:\n",
    "    print(\"string is not a palindrome\")"
   ]
  },
  {
   "cell_type": "markdown",
   "id": "7c5cce18-9bd3-4c46-b3d4-589d8a964bb7",
   "metadata": {},
   "source": [
    "## Question4.Write a code to check if two given strings are anagrams of each other.?"
   ]
  },
  {
   "cell_type": "code",
   "execution_count": 15,
   "id": "4b05ed3a-f839-4426-a94a-bb4476c4e184",
   "metadata": {
    "tags": []
   },
   "outputs": [
    {
     "name": "stdout",
     "output_type": "stream",
     "text": [
      "True\n"
     ]
    }
   ],
   "source": [
    "s1 = \"mug\"\n",
    "s2 = \"gum\"\n",
    "def isanagram (s1,s2):\n",
    "    s1 = sorted(s1)\n",
    "    s2 = sorted(s2)\n",
    "    return s1 == s2\n",
    "    \n",
    "print(\"True\" if isanagram(s1,s2) else \" False\")\n",
    "    "
   ]
  },
  {
   "cell_type": "markdown",
   "id": "10c0d503-e69a-4814-8a66-2038b318b87b",
   "metadata": {},
   "source": [
    "## Question 5.Write a code to find all occurrences of a given substring within another string.?"
   ]
  },
  {
   "cell_type": "code",
   "execution_count": 4,
   "id": "106b723a-6f8e-49ba-a9cd-3a3c75cc334a",
   "metadata": {
    "tags": []
   },
   "outputs": [
    {
     "name": "stdout",
     "output_type": "stream",
     "text": [
      "Position: [6, 9, 15, 26, 31, 41]\n"
     ]
    }
   ],
   "source": [
    "main_string = \"the rain in Spain stays mainly in the plain\"\n",
    "substring = \"in\"\n",
    "position = []\n",
    "i = main_string.find(substring)\n",
    "while i != -1:\n",
    "    position.append(i)\n",
    "    i = main_string.find(substring,i+1)\n",
    "\n",
    "print(\"Position:\", position)\n",
    "\n"
   ]
  },
  {
   "cell_type": "markdown",
   "id": "cf06d7a5-bbef-4414-ae23-33ed51c704ce",
   "metadata": {},
   "source": [
    "## Question 6.Write a code to perform basic string compression using the counts of repeated characters.?"
   ]
  },
  {
   "cell_type": "code",
   "execution_count": 16,
   "id": "4d02360b-2c6f-4382-84d3-a6e706e47c71",
   "metadata": {
    "tags": []
   },
   "outputs": [
    {
     "name": "stdout",
     "output_type": "stream",
     "text": [
      " a3b4c2d4a1\n"
     ]
    }
   ],
   "source": [
    "s = \"aaabbbbccdddda\"\n",
    "def compressed_str(s):\n",
    "    if not s:\n",
    "        return \"\"\n",
    "    s2 =\" \"\n",
    "    count = 1\n",
    "    for i in range (1 , len(s)):\n",
    "        if s[i] == s[i - 1] :\n",
    "            count += 1\n",
    "        else:\n",
    "            s2 += s[i -1] + str(count)\n",
    "            count = 1\n",
    "    s2 += s[-1] + str(count)\n",
    "    return s2\n",
    "print (compressed_str(s))\n"
   ]
  },
  {
   "cell_type": "markdown",
   "id": "d764881f-fdfd-444a-aed9-a6c29463ab6f",
   "metadata": {},
   "source": [
    "## Question 7.Write a code to determine if a string has all unique characters.?"
   ]
  },
  {
   "cell_type": "code",
   "execution_count": 34,
   "id": "85348bfc-6dfe-4fac-ab6f-8713e3ddbbb5",
   "metadata": {
    "tags": []
   },
   "outputs": [
    {
     "name": "stdout",
     "output_type": "stream",
     "text": [
      "All characters are unique\n"
     ]
    }
   ],
   "source": [
    "s = \"Tanvi\"\n",
    "\n",
    "def uni_char(s):\n",
    "    s = s.lower()\n",
    "    seen = set()\n",
    "    for char in s:\n",
    "        if char in seen:\n",
    "            return \"All characters are NOT unique\"\n",
    "        seen.add(char)\n",
    "    return \"All characters are unique\"\n",
    "print(uni_char(s))\n",
    "\n",
    "\n"
   ]
  },
  {
   "cell_type": "code",
   "execution_count": 33,
   "id": "319c1501-3099-4e7d-b97c-733da0c83b3f",
   "metadata": {
    "tags": []
   },
   "outputs": [
    {
     "name": "stdout",
     "output_type": "stream",
     "text": [
      "All characters are unique\n"
     ]
    }
   ],
   "source": [
    "s = \"Tanvi\"\n",
    "def uni_char(s):\n",
    "    s = s.lower()\n",
    "    for i in range(len(s)):\n",
    "        for j in range(i + 1, len(s)):\n",
    "            if s[i] == s[j]:\n",
    "                return \"All characters are NOT unique\"\n",
    "    return \"All characters are unique\"\n",
    "\n",
    "print(uni_char(s)) \n"
   ]
  },
  {
   "cell_type": "markdown",
   "id": "7e6a035f-3a0f-4135-b3ff-fbdae2cac96f",
   "metadata": {},
   "source": [
    "## Question 8.Write a code to convert a given string to uppercase or lowercase.?"
   ]
  },
  {
   "cell_type": "code",
   "execution_count": 36,
   "id": "52b17c23-1af6-40d0-9620-350a65c5e1cc",
   "metadata": {
    "tags": []
   },
   "outputs": [
    {
     "name": "stdout",
     "output_type": "stream",
     "text": [
      "the rain in spain stays mainly in the plain\n",
      "THE RAIN IN SPAIN STAYS MAINLY IN THE PLAIN\n"
     ]
    }
   ],
   "source": [
    "s = \"the rain in Spain stays mainly in the plain\"\n",
    "# lowercase\n",
    "s = s.lower()\n",
    "print(s)\n",
    "\n",
    "# uppercase\n",
    "s = s.upper()\n",
    "print(s)"
   ]
  },
  {
   "cell_type": "markdown",
   "id": "6297b167-06b7-4c02-91db-542a3b1ba9ef",
   "metadata": {},
   "source": [
    "## Question 9.Write a code to count the number of words in a string.?"
   ]
  },
  {
   "cell_type": "code",
   "execution_count": 48,
   "id": "e50f9498-c4f3-4d8a-ab9e-e679f44a8f91",
   "metadata": {
    "tags": []
   },
   "outputs": [
    {
     "name": "stdout",
     "output_type": "stream",
     "text": [
      "2\n"
     ]
    }
   ],
   "source": [
    "s = \"plain grass\"\n",
    "new_string = s.split()\n",
    "print(len(new_string))"
   ]
  },
  {
   "cell_type": "markdown",
   "id": "67e9eaac-635d-46dd-8913-5e459dc6750f",
   "metadata": {},
   "source": [
    "## Question 10.Write a code to concatenate two strings without using the + operator.?"
   ]
  },
  {
   "cell_type": "code",
   "execution_count": 49,
   "id": "18cf6390-ea18-4fd1-b5e9-78a22e9ef9ca",
   "metadata": {
    "tags": []
   },
   "outputs": [
    {
     "name": "stdout",
     "output_type": "stream",
     "text": [
      "plain grass hot water\n"
     ]
    }
   ],
   "source": [
    "s1 = \"plain grass\"\n",
    "s2 = \" hot water\"\n",
    "print (f\"{s1}{s2}\")"
   ]
  },
  {
   "cell_type": "markdown",
   "id": "eafba912-d8d9-4f34-a839-87b47393e7a9",
   "metadata": {},
   "source": [
    "## Question 11.Write a code to remove all occurrences of a specific element from a list.?"
   ]
  },
  {
   "cell_type": "code",
   "execution_count": 2,
   "id": "92ebd80b-5332-4b31-a017-de124555c6dd",
   "metadata": {
    "tags": []
   },
   "outputs": [
    {
     "name": "stdout",
     "output_type": "stream",
     "text": [
      "[1, 3, 4, 5]\n"
     ]
    }
   ],
   "source": [
    "my_list = [1, 2, 3, 2, 4, 2, 5]\n",
    "remove_num = 2\n",
    "new_list = []\n",
    "for i in my_list:\n",
    "    if i != remove_num:\n",
    "        new_list.append(i)\n",
    "\n",
    "print(new_list)\n",
    "\n",
    "\n",
    "        "
   ]
  },
  {
   "cell_type": "markdown",
   "id": "0a1e9702-ac9f-43fb-8611-c17880320f18",
   "metadata": {},
   "source": [
    "## Question 12.Implement a code to find the second largest number in a given list of integers.?"
   ]
  },
  {
   "cell_type": "code",
   "execution_count": 58,
   "id": "c4c0be84-bd29-4959-97cd-695ffff59e0b",
   "metadata": {
    "tags": []
   },
   "outputs": [
    {
     "name": "stdout",
     "output_type": "stream",
     "text": [
      "80\n"
     ]
    }
   ],
   "source": [
    "my_list = [ 10,40,50,80,90]\n",
    "def second_largest_num(my_list):\n",
    "    largest_num = max(my_list)\n",
    "    second_largest = [ x for x in my_list if x != largest_num]\n",
    "    return max(second_largest)\n",
    "print(second_largest_num(my_list))"
   ]
  },
  {
   "cell_type": "markdown",
   "id": "67855aa7-1886-4a36-a564-e939ce8116a1",
   "metadata": {},
   "source": [
    " ## Question 13.Create a code to count the occurrences of each element in a list and return a dictionary with elements as keys and their counts as values.?"
   ]
  },
  {
   "cell_type": "code",
   "execution_count": 1,
   "id": "e6f87cda-3c6c-4a66-bff0-22f78b8ae021",
   "metadata": {
    "tags": []
   },
   "outputs": [
    {
     "name": "stdout",
     "output_type": "stream",
     "text": [
      "{'apple': 3, 'banana': 2, 'orange': 1}\n"
     ]
    }
   ],
   "source": [
    "def count_elements(lst):\n",
    "    count_dict = {}\n",
    "    for item in lst:\n",
    "        if item in count_dict:\n",
    "            count_dict[item] += 1\n",
    "        else:\n",
    "            count_dict[item] = 1\n",
    "    return count_dict\n",
    "\n",
    "# Example usage\n",
    "sample_list = ['apple', 'banana', 'apple', 'orange', 'banana', 'apple']\n",
    "result = count_elements(sample_list)\n",
    "print(result)\n",
    "# {'apple': 3, 'banana': 2, 'orange': 1}"
   ]
  },
  {
   "cell_type": "markdown",
   "id": "9ef4ecc3-faa4-457c-8cdb-62ba328925c1",
   "metadata": {},
   "source": [
    "## Question 14.Write a code to reverse a list in-place without using any built-in reverse functions.?"
   ]
  },
  {
   "cell_type": "code",
   "execution_count": 15,
   "id": "70806aac-cc3b-4abc-83e7-28704c14b275",
   "metadata": {
    "tags": []
   },
   "outputs": [
    {
     "name": "stdout",
     "output_type": "stream",
     "text": [
      "[90, 80, 50, 40, 10]\n"
     ]
    }
   ],
   "source": [
    "sample_list = [ 10,40,50,80,90]\n",
    "reversed_list = sample_list[::-1]\n",
    "print(reversed_list)"
   ]
  },
  {
   "cell_type": "markdown",
   "id": "042df831-9feb-4adb-8761-16c49cbc2ab6",
   "metadata": {},
   "source": [
    "## Question 15.Implement a code to find and remove duplicates from a list while preserving the original order of elements.?"
   ]
  },
  {
   "cell_type": "code",
   "execution_count": 19,
   "id": "3898a390-0cc5-4338-9729-73ff90d0faef",
   "metadata": {
    "tags": []
   },
   "outputs": [
    {
     "name": "stdout",
     "output_type": "stream",
     "text": [
      "['apple', 'banana', 'orange']\n"
     ]
    }
   ],
   "source": [
    "def remove_duplicate(lst):\n",
    "    new_list = []\n",
    "    for i in lst:\n",
    "        if i not in new_list:\n",
    "            new_list.append(i)\n",
    "    return new_list\n",
    "            \n",
    "#example usage\n",
    "sample_list =  ['apple', 'banana', 'apple', 'orange', 'banana', 'apple']\n",
    "result = remove_duplicate(sample_list)\n",
    "print(result)"
   ]
  },
  {
   "cell_type": "markdown",
   "id": "68680a0e-b2d9-4baf-9624-6aa38fecfc4f",
   "metadata": {},
   "source": [
    "## Question 16.Create a code to check if a given list is sorted (either in ascending or descending order) or not.?"
   ]
  },
  {
   "cell_type": "code",
   "execution_count": 31,
   "id": "91ca72e8-0917-45d9-afd3-789dd3211cfd",
   "metadata": {
    "tags": []
   },
   "outputs": [
    {
     "name": "stdout",
     "output_type": "stream",
     "text": [
      "the list is sorted\n",
      "None\n"
     ]
    }
   ],
   "source": [
    "def sorted_list(lst):\n",
    "        if lst == sorted(lst):\n",
    "            print(\"the list is sorted\")\n",
    "        else:\n",
    "            return print(\"the list is unsorted\")\n",
    "\n",
    "sample_list = ['apple', 'banana', 'orange']\n",
    "result= sorted_list(sample_list)\n",
    "print(result)"
   ]
  },
  {
   "cell_type": "markdown",
   "id": "37ed2648-b56f-4bad-9f65-47e8b2578126",
   "metadata": {},
   "source": [
    "## Question 17.Write a code to merge two sorted lists into a single sorted list.?"
   ]
  },
  {
   "cell_type": "code",
   "execution_count": 35,
   "id": "2b1d636b-ef53-4841-a364-063c6c02a7fb",
   "metadata": {
    "tags": []
   },
   "outputs": [
    {
     "name": "stdout",
     "output_type": "stream",
     "text": [
      "[['apple', 'banana', 'orange'], [10, 40, 50, 80, 90]]\n"
     ]
    }
   ],
   "source": [
    "def merge_list(lst,lst2):\n",
    "    new_merged_list = []\n",
    "    if lst == sorted(lst):\n",
    "        new_merged_list.append(lst)\n",
    "    if lst2 == sorted(lst2):\n",
    "        new_merged_list.append(lst2)\n",
    "    return new_merged_list\n",
    "\n",
    "sample_list = ['apple', 'banana', 'orange']\n",
    "sample_list_2  = [ 10,40,50,80,90]\n",
    "result = merge_list(sample_list,sample_list_2)\n",
    "print(result)"
   ]
  },
  {
   "cell_type": "markdown",
   "id": "a54b4ca3-4d87-45ee-baa2-9319065055ce",
   "metadata": {},
   "source": [
    "## Question 18.Implement a code to find the intersection of two given lists.?"
   ]
  },
  {
   "cell_type": "code",
   "execution_count": 36,
   "id": "11b50b6d-8d2b-4d89-a394-f89b27233165",
   "metadata": {
    "tags": []
   },
   "outputs": [
    {
     "name": "stdout",
     "output_type": "stream",
     "text": [
      "[3, 5, 5]\n"
     ]
    }
   ],
   "source": [
    "list1 = [1, 2, 3, 4, 5, 5]\n",
    "list2 = [3, 5, 6, 7, 8]\n",
    "\n",
    "intersection_list = [x for x in list1 if x in list2]\n",
    "print(intersection_list)\n"
   ]
  },
  {
   "cell_type": "markdown",
   "id": "7eed63a5-c8fc-4476-8e76-b8fab5180cd4",
   "metadata": {},
   "source": [
    "## Question 19.Create a code to find the union of two lists without duplicates.?"
   ]
  },
  {
   "cell_type": "code",
   "execution_count": 41,
   "id": "d80fac97-1226-41a8-84df-5bffd4736392",
   "metadata": {
    "tags": []
   },
   "outputs": [
    {
     "name": "stdout",
     "output_type": "stream",
     "text": [
      "[1, 2, 3, 4, 5, 6, 7, 8]\n"
     ]
    }
   ],
   "source": [
    "list1 = [1, 2, 3, 4, 5,5]\n",
    "list2 = [3, 5, 6, 7, 8]\n",
    "\n",
    "#union_list = list1 + [ x for x in list2 if x not in set(list1)]\n",
    "#print(union_list)\n",
    "\n",
    "union_list = list(set(list1)|set(list2))\n",
    "print(union_list)"
   ]
  },
  {
   "cell_type": "markdown",
   "id": "0567e7cb-e73d-42cc-ab6a-7fba37db7595",
   "metadata": {},
   "source": [
    "## Question 20.Write a code to shuffle a given list randomly without using any built-in shuffle functions?"
   ]
  },
  {
   "cell_type": "code",
   "execution_count": 47,
   "id": "0b752cb9-fb81-4f87-b80d-63b88c36615a",
   "metadata": {
    "tags": []
   },
   "outputs": [
    {
     "name": "stdout",
     "output_type": "stream",
     "text": [
      "Deterministic shuffle: [4, 5, 3, 1, 2]\n"
     ]
    }
   ],
   "source": [
    "def simple_deterministic_shuffle(lst):\n",
    "    n = len(lst)\n",
    "    for i in range(n):\n",
    "        j = (i * 3 + 1) % n  # Simple math pattern\n",
    "        lst[i], lst[j] = lst[j], lst[i]\n",
    "    return lst\n",
    "\n",
    "my_list = [1, 2, 3, 4, 5]\n",
    "shuffled = simple_deterministic_shuffle(my_list.copy())\n",
    "print(\"Deterministic shuffle:\", shuffled)\n",
    "\n",
    "\n",
    "\n",
    "\n",
    "\n",
    "#i\tj = (i*3 + 1) % 5\tSwap indices\tList after swap\n",
    "#0\t(0*3 + 1) % 5 = 1\tSwap 0 & 1\t[2, 1, 3, 4, 5]\n",
    "#1\t(1*3 + 1) % 5 = 4\tSwap 1 & 4\t[2, 5, 3, 4, 1]\n",
    "#2\t(2*3 + 1) % 5 = 2\tSwap 2 & 2\t[2, 5, 3, 4, 1]\n",
    "#3\t(3*3 + 1) % 5 = 0\tSwap 3 & 0\t[4, 5, 3, 2, 1]\n",
    "#4\t(4*3 + 1) % 5 = 3\tSwap 4 & 3\t[4, 5, 3, 1, 2]"
   ]
  },
  {
   "cell_type": "markdown",
   "id": "3f4a5414-33bc-48ac-a76b-75225e319eb0",
   "metadata": {},
   "source": [
    "## Question 21.Write a code that takes two tuples as input and returns a new tuple containing elements that are common to both input tuples.?"
   ]
  },
  {
   "cell_type": "code",
   "execution_count": 51,
   "id": "31548345-a535-4317-af3f-a0bd76ae07ef",
   "metadata": {
    "tags": []
   },
   "outputs": [
    {
     "name": "stdin",
     "output_type": "stream",
     "text": [
      "enter tuple1: 1,2,3,4,5,6\n",
      "enter tuple2: 1,2,3,5,8,9\n"
     ]
    },
    {
     "name": "stdout",
     "output_type": "stream",
     "text": [
      "{'5', ',', '9', '3', '8', '1', '4', '2', '6'}\n"
     ]
    }
   ],
   "source": [
    "tuple1 = list(input(\"enter tuple1:\"))\n",
    "tuple2 = list(input(\"enter tuple2:\"))\n",
    "new_tuple = tuple(set(tuple1)|set(tuple2))\n",
    "print(new_tuple)"
   ]
  },
  {
   "cell_type": "markdown",
   "id": "f67280af-0767-40f3-b371-a5d78727fe56",
   "metadata": {},
   "source": [
    "## Question 22.Create a code that prompts the user to enter two sets of integers separated by commas. Then, print the intersection of these two sets.?"
   ]
  },
  {
   "cell_type": "code",
   "execution_count": 2,
   "id": "cd0a881f-958d-4ec1-919f-be37ab7419c2",
   "metadata": {
    "tags": []
   },
   "outputs": [
    {
     "name": "stdin",
     "output_type": "stream",
     "text": [
      "Enter comma separated set1 : 3,4,5,6\n",
      "Enter comma separated set2 : 1,2,3,4\n"
     ]
    },
    {
     "name": "stdout",
     "output_type": "stream",
     "text": [
      "{3, 4}\n"
     ]
    }
   ],
   "source": [
    "set_1 = input(\"Enter comma separated set1 :\")\n",
    "set_2 = input(\"Enter comma separated set2 :\")\n",
    "\n",
    "\n",
    "set_1 = set(map(int,set_1.split(',')))\n",
    "set_2 = set(map(int,set_2.split(',')))\n",
    "\n",
    "intersection_of_set = set_1.intersection(set_2)\n",
    "\n",
    "print(intersection_of_set)"
   ]
  },
  {
   "cell_type": "markdown",
   "id": "917bff31-aefd-4449-a2f6-b63c2443459a",
   "metadata": {},
   "source": [
    "## Question 23.Write a code to concatenate two tuples. The function should take two tuples as input and return a new tuple containing elements from both input tuples.?"
   ]
  },
  {
   "cell_type": "code",
   "execution_count": 6,
   "id": "d1dc1062-18d4-41a5-a511-3f6dc901f2f3",
   "metadata": {
    "tags": []
   },
   "outputs": [
    {
     "name": "stdin",
     "output_type": "stream",
     "text": [
      "Enter tuple_1 1 2 3 4\n",
      "Enter tuple_2  5 6 7 8\n"
     ]
    },
    {
     "name": "stdout",
     "output_type": "stream",
     "text": [
      "('1', ' ', '2', ' ', '3', ' ', '4', ' ', '5', ' ', '6', ' ', '7', ' ', '8')\n"
     ]
    }
   ],
   "source": [
    "tup_1 = tuple(input(\"Enter tuple_1\"))\n",
    "tup_2 = tuple(input(\"Enter tuple_2\"))\n",
    "\n",
    "new_tup = tup_1 + tup_2\n",
    "\n",
    "print(new_tup)"
   ]
  },
  {
   "cell_type": "markdown",
   "id": "e7d772a7-9dbc-4c42-a019-60371b65e6cc",
   "metadata": {},
   "source": [
    "## Question 24.Develop a code that prompts the user to input two sets of strings. Then, print the elements that are present in the first set but not in the second set?"
   ]
  },
  {
   "cell_type": "code",
   "execution_count": 10,
   "id": "74c40ec5-710c-43ad-ac79-fa1679f6ccb5",
   "metadata": {
    "tags": []
   },
   "outputs": [
    {
     "name": "stdin",
     "output_type": "stream",
     "text": [
      "Enter set of string_1: A,B,C,D\n",
      "Enter set of string_2: C,A,F,R\n"
     ]
    },
    {
     "name": "stdout",
     "output_type": "stream",
     "text": [
      "{'D', 'B'}\n"
     ]
    }
   ],
   "source": [
    "input_1 = input(\"Enter set of string_1:\")\n",
    "input_2 = input(\"Enter set of string_2:\")\n",
    "\n",
    "set_1 = set(map(input_1.split(',')))\n",
    "set_2 = set(map(input_2.split(',')))\n",
    "\n",
    "set_subtraction = set_1.difference(set_2)\n",
    "print(set_subtraction)\n",
    "\n",
    "\n"
   ]
  },
  {
   "cell_type": "markdown",
   "id": "bde36d68-df28-4da5-a149-f9be05a174c3",
   "metadata": {},
   "source": [
    "## Question 25.Create a code that takes a tuple and two integers as input. The function should return a new tuple containing elements from the original tuple within the specified range of indices? "
   ]
  },
  {
   "cell_type": "code",
   "execution_count": 11,
   "id": "43b3eab8-0851-40e4-acd7-eb08c542a417",
   "metadata": {
    "tags": []
   },
   "outputs": [
    {
     "name": "stdin",
     "output_type": "stream",
     "text": [
      "enter start index: 1\n",
      "enter end index: 4\n"
     ]
    },
    {
     "name": "stdout",
     "output_type": "stream",
     "text": [
      "(20, 30, 40)\n"
     ]
    }
   ],
   "source": [
    "def slice_tuple(tup,start,end):\n",
    "    return tup[start:end]\n",
    "\n",
    "start_index = int(input(\"enter start index:\"))\n",
    "end_index = int(input(\"enter end index:\"))\n",
    "\n",
    "sample_tup = (10,20,30,40,50,60)                      \n",
    "\n",
    "new_sliced_tuple = slice_tuple(sample_tup,start_index,end_index)\n",
    "print(\"sliced tuple :\",new_sliced_tuple)"
   ]
  },
  {
   "cell_type": "markdown",
   "id": "09c54613-ef96-438f-965b-c2b30c8c50b6",
   "metadata": {},
   "source": [
    "## Question 26.Write a code that prompts the user to input two sets of characters. Then, print the union of these two sets?"
   ]
  },
  {
   "cell_type": "code",
   "execution_count": 17,
   "id": "697b979f-cec7-4408-b7ff-3d469db6474b",
   "metadata": {
    "tags": []
   },
   "outputs": [
    {
     "name": "stdin",
     "output_type": "stream",
     "text": [
      "Enter set of string_1: Tanvi\n",
      "Enter set of string_2: Kanaiya\n"
     ]
    },
    {
     "name": "stdout",
     "output_type": "stream",
     "text": [
      "Union of set: Tanvi Kanaiya\n"
     ]
    }
   ],
   "source": [
    "set_1 = input(\"Enter set of string_1:\")\n",
    "set_2 = input(\"Enter set of string_2:\")\n",
    "\n",
    "set_union = set_1 +\" \"+ set_2\n",
    "print(\"Union of set:\",set_union)\n"
   ]
  },
  {
   "cell_type": "markdown",
   "id": "5699062e-57d5-40d0-83e0-c6ad54306441",
   "metadata": {},
   "source": [
    "## Question 27.Develop a code that takes a tuple of integers as input. The function should return the maximum and minimum values from the tuple using tuple unpacking?"
   ]
  },
  {
   "cell_type": "code",
   "execution_count": 4,
   "id": "cc1575dc-ab90-4e1e-9cd6-680e9dc6ab9f",
   "metadata": {},
   "outputs": [
    {
     "name": "stdin",
     "output_type": "stream",
     "text": [
      "enter interger tuple: 1,2,50,8,6\n"
     ]
    },
    {
     "name": "stdout",
     "output_type": "stream",
     "text": [
      "maximum value: 50\n",
      "minimum value: 1\n"
     ]
    }
   ],
   "source": [
    "def get_max_min(tup):\n",
    "    max_val = max(tup)\n",
    "    min_val = min(tup)\n",
    "    return max_val,min_val\n",
    "input_tup = input(\"enter interger tuple:\")\n",
    "numbers = tuple(map(int,input_tup.split(',')))\n",
    "maximum , minimum = get_max_min(numbers)\n",
    "\n",
    "print(\"maximum value:\",maximum)\n",
    "print(\"minimum value:\",minimum)"
   ]
  },
  {
   "cell_type": "markdown",
   "id": "0427c94c-a41f-4517-95be-35447246c556",
   "metadata": {},
   "source": [
    "## Question 28.Create a code that defines two sets of integers. Then, print the union, intersection, and difference of these two sets?"
   ]
  },
  {
   "cell_type": "code",
   "execution_count": 11,
   "id": "5dc55368-f6d8-497a-b27e-ce7287e7f6d3",
   "metadata": {
    "tags": []
   },
   "outputs": [
    {
     "name": "stdout",
     "output_type": "stream",
     "text": [
      "set union : {1, 2, 3, 4, 5, 8, 9}\n",
      "set intersection {1, 2, 5}\n",
      "set difference:  {3, 4}\n"
     ]
    }
   ],
   "source": [
    "set_1 = {1,2,3,4,5}\n",
    "set_2 = {1,2,5,8,9}\n",
    "\n",
    "# union \n",
    "set_union = print(\"set union :\",set_1.union(set_2))\n",
    "\n",
    "# intersection \n",
    "set_intersection = print(\"set intersection: \", set_1.intersection(set_2))\n",
    "\n",
    "#difference \n",
    "set_difference = print(\"set difference: \" ,set_1.difference(set_2))"
   ]
  },
  {
   "cell_type": "markdown",
   "id": "80ca5234-25fa-4a00-9d14-2301b853e6b1",
   "metadata": {},
   "source": [
    "## Question 29.Write a code that takes a tuple and an element as input. The function should return the count of occurrences of the given element in the tuple?"
   ]
  },
  {
   "cell_type": "code",
   "execution_count": 12,
   "id": "ceaa8741-a665-47f8-972a-06f8e8f79a17",
   "metadata": {
    "tags": []
   },
   "outputs": [
    {
     "name": "stdout",
     "output_type": "stream",
     "text": [
      "The element 2 appears 3 times.\n"
     ]
    }
   ],
   "source": [
    "def count_occurrences(tup, element):\n",
    "    return tup.count(element)\n",
    "my_tuple = (1, 2, 3, 2, 4, 2, 5)\n",
    "search_element = 2\n",
    "\n",
    "result = count_occurrences(my_tuple, search_element)\n",
    "print(f\"The element {search_element} appears {result} times.\")\n",
    "\n"
   ]
  },
  {
   "cell_type": "markdown",
   "id": "257700d6-1f26-4e43-9f08-181daa55eb7f",
   "metadata": {
    "tags": []
   },
   "source": [
    "## Question 30.Develop a code that prompts the user to input two sets of strings. Then, print the symmetric difference of these two sets?"
   ]
  },
  {
   "cell_type": "code",
   "execution_count": 15,
   "id": "c4a4de43-34ea-4ff6-9393-d5e05590ac86",
   "metadata": {
    "tags": []
   },
   "outputs": [
    {
     "name": "stdout",
     "output_type": "stream",
     "text": [
      "symmetric difference of set is : {3, 4, 8, 9}\n"
     ]
    }
   ],
   "source": [
    "set_1 = {1,2,3,4,5}\n",
    "set_2 = {1,2,5,8,9}\n",
    "\n",
    "# symmetric difference \n",
    "set_difference = print(\"symmetric difference of set is :\", set_1.symmetric_difference(set_2))"
   ]
  },
  {
   "cell_type": "markdown",
   "id": "5531595f-f7d8-44a3-ad47-a629bf765a84",
   "metadata": {},
   "source": [
    "## Question 31.Write a code that takes a list of words as input and returns a dictionary where the keys are unique words and the values are the frequencies of those words in the input list?"
   ]
  },
  {
   "cell_type": "code",
   "execution_count": 17,
   "id": "4fa4adfd-de1e-4f98-9408-21e78b6af79b",
   "metadata": {
    "tags": []
   },
   "outputs": [
    {
     "name": "stdin",
     "output_type": "stream",
     "text": [
      "enter list of words: \"apple\", \"banana\", \"apple\", \"cherry\", \"banana\", \"apple\"\n"
     ]
    },
    {
     "name": "stdout",
     "output_type": "stream",
     "text": [
      "{'\"': 12, 'a': 9, 'p': 6, 'l': 3, 'e': 4, ',': 5, ' ': 5, 'b': 2, 'n': 4, 'c': 1, 'h': 1, 'r': 2, 'y': 1}\n"
     ]
    }
   ],
   "source": [
    "def list_to_dict(lst):\n",
    "    freq_dict = {}\n",
    "    for word in lst:\n",
    "        if word in  freq_dict:\n",
    "            freq_dict[word] += 1\n",
    "        else:\n",
    "            freq_dict[word] = 1\n",
    "    return freq_dict        \n",
    "            \n",
    "    \n",
    "\n",
    "sample_list = list(input(\"enter list of words:\"))\n",
    "result = list_to_dict(sample_list)\n",
    "print(result)\n"
   ]
  },
  {
   "cell_type": "markdown",
   "id": "ebc45623-50f2-441e-ab9e-4a3824a3c612",
   "metadata": {
    "tags": []
   },
   "source": [
    "## Question 32.Write a code that takes two dictionaries as input and merges them into a single dictionary. If there are common keys, the values should be added together?"
   ]
  },
  {
   "cell_type": "code",
   "execution_count": 18,
   "id": "ebb9321c-a20e-43d3-9ccf-cf609ab12e46",
   "metadata": {
    "tags": []
   },
   "outputs": [
    {
     "name": "stdout",
     "output_type": "stream",
     "text": [
      "merged dictionary: {'apple': 2, 'banana': 4, 'cherry': 5, 'date': 5}\n"
     ]
    }
   ],
   "source": [
    "dict1 = {'apple': 2, 'banana': 3, 'cherry': 1}\n",
    "dict2 = {'banana': 1, 'cherry': 4, 'date': 5}\n",
    " \n",
    "def merge_dict(dict1,dict2):\n",
    "    merged = dict1.copy()\n",
    "    \n",
    "    for key,value in dict2.items():\n",
    "        if key in merged:\n",
    "            merged[key] += value\n",
    "        else:\n",
    "            merged[key] = value\n",
    "    return merged       \n",
    "\n",
    "result = merge_dict(dict1,dict2)\n",
    "print(\"merged dictionary:\", result )\n",
    "    "
   ]
  },
  {
   "cell_type": "markdown",
   "id": "25e58528-ea80-4cac-9557-b9d7f5853b32",
   "metadata": {
    "tags": []
   },
   "source": [
    "## Question 33.Write a code to access a value in a nested dictionary. The function should take the dictionary and a list of keys as input, and return the corresponding value. If any of the keys do not exist in the dictionary, the function should return None?"
   ]
  },
  {
   "cell_type": "code",
   "execution_count": 19,
   "id": "3db2d5bb-65fb-4149-a3fb-3de95b4077cf",
   "metadata": {
    "tags": []
   },
   "outputs": [
    {
     "name": "stdout",
     "output_type": "stream",
     "text": [
      "Tanvi\n"
     ]
    }
   ],
   "source": [
    "def get_nested_value(nested_dict, keys):\n",
    "    current = nested_dict\n",
    "    for key in keys:\n",
    "        if isinstance(current, dict) and key in current:\n",
    "            current = current[key]\n",
    "        else:\n",
    "            return None\n",
    "    return current\n",
    "\n",
    "data = {'user': {'profile': {'name': 'Tanvi','age': 22}}}\n",
    "\n",
    "keys = ['user', 'profile', 'name']\n",
    "result = get_nested_value(data, keys)\n",
    "print(result) \n",
    "\n"
   ]
  },
  {
   "cell_type": "markdown",
   "id": "40be74a0-46ab-45a7-9be1-633cee06c21f",
   "metadata": {
    "tags": []
   },
   "source": [
    "## Question 34.Write a code that takes a dictionary as input and returns a sorted version of it based on the values. You can choose whether to sort in ascending or descending order?"
   ]
  },
  {
   "cell_type": "code",
   "execution_count": 20,
   "id": "c07b87eb-0825-4eb0-b27d-c33a2ec95bfb",
   "metadata": {
    "tags": []
   },
   "outputs": [
    {
     "name": "stdout",
     "output_type": "stream",
     "text": [
      "Ascending: {'banana': 2, 'date': 4, 'apple': 5, 'cherry': 8}\n",
      "Descending: {'cherry': 8, 'apple': 5, 'date': 4, 'banana': 2}\n"
     ]
    }
   ],
   "source": [
    "def sort_dict_by_value(d, reverse=False):\n",
    "    sorted_items = sorted(d.items(), key=lambda item: item[1], reverse=reverse)\n",
    "    return dict(sorted_items)\n",
    "my_dict = {'apple': 5, 'banana': 2, 'cherry': 8, 'date': 4}\n",
    "\n",
    "# Ascending order\n",
    "print(\"Ascending:\", sort_dict_by_value(my_dict))\n",
    "\n",
    "# Descending order\n",
    "print(\"Descending:\", sort_dict_by_value(my_dict, reverse=True))\n",
    "\n"
   ]
  },
  {
   "cell_type": "markdown",
   "id": "eee3b991-0a81-430d-a350-285774b8de5c",
   "metadata": {},
   "source": [
    "## Question 35.Write a code that inverts a dictionary, swapping keys and values. Ensure that the inverted dictionary correctly handles cases where multiple keys have the same value by storing the keys as a list in the inverted dictionary?"
   ]
  },
  {
   "cell_type": "code",
   "execution_count": 21,
   "id": "1ba5a76c-d155-406e-bc8e-ceea6aa0d75f",
   "metadata": {
    "tags": []
   },
   "outputs": [
    {
     "name": "stdout",
     "output_type": "stream",
     "text": [
      "{1: ['a', 'c'], 2: ['b', 'e'], 3: ['d']}\n"
     ]
    }
   ],
   "source": [
    "def invert_dict(original_dict):\n",
    "    inverted = {}\n",
    "    for key, value in original_dict.items():\n",
    "        if value in inverted:\n",
    "            inverted[value].append(key)\n",
    "        else:\n",
    "            inverted[value] = [key]\n",
    "    return inverted\n",
    "my_dict = {\n",
    "    'a': 1,\n",
    "    'b': 2,\n",
    "    'c': 1,\n",
    "    'd': 3,\n",
    "    'e': 2\n",
    "}\n",
    "\n",
    "inverted = invert_dict(my_dict)\n",
    "print(inverted)\n"
   ]
  },
  {
   "cell_type": "code",
   "execution_count": null,
   "id": "84d78284-143b-4953-90c7-a9a53340dad3",
   "metadata": {},
   "outputs": [],
   "source": []
  }
 ],
 "metadata": {
  "kernelspec": {
   "display_name": "Python 3 (ipykernel)",
   "language": "python",
   "name": "python3"
  },
  "language_info": {
   "codemirror_mode": {
    "name": "ipython",
    "version": 3
   },
   "file_extension": ".py",
   "mimetype": "text/x-python",
   "name": "python",
   "nbconvert_exporter": "python",
   "pygments_lexer": "ipython3",
   "version": "3.11.5"
  },
  "toc-autonumbering": false,
  "toc-showcode": false,
  "toc-showmarkdowntxt": false,
  "toc-showtags": false
 },
 "nbformat": 4,
 "nbformat_minor": 5
}
